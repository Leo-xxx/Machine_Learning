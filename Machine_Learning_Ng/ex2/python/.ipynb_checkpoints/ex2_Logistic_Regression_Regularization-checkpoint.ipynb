{
 "cells": [
  {
   "cell_type": "code",
   "execution_count": 2,
   "metadata": {},
   "outputs": [],
   "source": [
    "import numpy as np\n",
    "import matplotlib.pyplot as plt"
   ]
  },
  {
   "cell_type": "code",
   "execution_count": 3,
   "metadata": {},
   "outputs": [
    {
     "data": {
      "text/plain": [
       "<matplotlib.legend.Legend at 0x1a52ede46d8>"
      ]
     },
     "execution_count": 3,
     "metadata": {},
     "output_type": "execute_result"
    },
    {
     "data": {
      "image/png": "[encoded data removed]",
      "text/plain": [
       "<Figure size 432x288 with 1 Axes>"
      ]
     },
     "metadata": {
      "needs_background": "light"
     },
     "output_type": "display_data"
    }
   ],
   "source": [
    "# Plotting Data\n",
    "\n",
    "def plotData(x, y):\n",
    "    pos = y == 1\n",
    "    neg = y == 0\n",
    "    plt.plot(x[pos, 0], x[pos, 1], 'k+', lw = 2, ms = 10)\n",
    "    plt.plot(x[neg, 0], x[neg, 1], 'ko', mfc = 'y', ms = 8)\n",
    "    \n",
    "data = np.loadtxt('ex2data2.txt', delimiter=',') \n",
    "X_orig, y_orig = data[:, 0:2], data[:, 2]\n",
    "plotData(X_orig, y_orig)\n",
    "plt.xlabel('Microchip Test 1')\n",
    "plt.ylabel('Microchip Test 2')\n",
    "plt.legend(['y = 1', 'y = 0'])"
   ]
  },
  {
   "cell_type": "code",
   "execution_count": 4,
   "metadata": {},
   "outputs": [],
   "source": [
    "# Mapping Feature\n",
    "\n",
    "def mapFeature(x1, x2):\n",
    "    degree = 6\n",
    "    out = np.ones((x1.size,1))\n",
    "    for i in range(1, degree + 1, 1):\n",
    "        for j in range(0, i + 1, 1):\n",
    "            temp = x1 ** (i - j) * x2 ** (j)\n",
    "            temp = temp.reshape((x1.size,1))\n",
    "            out = np.hstack((out, temp))\n",
    "    return out\n",
    "\n",
    "X = mapFeature(X_orig[:, 0], X_orig[:, 1])\n",
    "m, n = X.shape\n",
    "y = y_orig.reshape((m, 1))"
   ]
  },
  {
   "cell_type": "code",
   "execution_count": 6,
   "metadata": {},
   "outputs": [
    {
     "name": "stdout",
     "output_type": "stream",
     "text": [
      "Cost at initial theta (zeros): 0.693147\n",
      "\n",
      "Gradient at initial theta (zeros) - first five values only:\n",
      "\n",
      "[[8.47457627e-03]\n",
      " [1.87880932e-02]\n",
      " [7.77711864e-05]\n",
      " [5.03446395e-02]\n",
      " [1.15013308e-02]]\n"
     ]
    }
   ],
   "source": [
    "# Regularized Logistic Regression\n",
    "\n",
    "def sigmoid(z):\n",
    "    g = 1 / (1 + np.exp(-z))\n",
    "    \n",
    "    return g\n",
    "\n",
    "def costFunctionReg(theta, x, y, lamb):\n",
    "    m = y.size\n",
    "    h = sigmoid(np.dot(x, theta))\n",
    "    J = (-np.dot(y.T, np.log(h)) - np.dot((1 - y).T, np.log(1 - h)))/ m + lamb * (np.sum(theta ** 2) - theta[0] ** 2) / (2 * m) ;\n",
    "    grad = np.dot(x.T, h - y) / m + lamb * theta / m\n",
    "    grad[0] = grad[0] - lamb * theta[0] / m\n",
    "    return J, grad\n",
    "\n",
    "initial_theta = np.zeros((n, 1))\n",
    "lamb = 1\n",
    "cost, grad = costFunctionReg(initial_theta, X, y, lamb)\n",
    "print('Cost at initial theta (zeros): %f\\n' %cost)\n",
    "print('Gradient at initial theta (zeros) - first five values only:\\n');\n",
    "print(grad[:5, :])"
   ]
  },
  {
   "cell_type": "code",
   "execution_count": 7,
   "metadata": {},
   "outputs": [
    {
     "name": "stdout",
     "output_type": "stream",
     "text": [
      "lambda = 1:\n",
      "iter=0,cost=0.693147 \n",
      "iter=200,cost=0.596406 \n",
      "iter=400,cost=0.562773 \n",
      "iter=600,cost=0.546815 \n",
      "iter=800,cost=0.538707 \n",
      "iter=1000,cost=0.534416 \n",
      "iter=1200,cost=0.532078 \n",
      "iter=1400,cost=0.530777 \n",
      "iter=1600,cost=0.530040 \n",
      "iter=1800,cost=0.529617 \n",
      "iter=2000,cost=0.529370 \n",
      "iter=2200,cost=0.529225 \n",
      "iter=2400,cost=0.529138 \n",
      "iter=2600,cost=0.529086 \n",
      "iter=2800,cost=0.529055 \n",
      "iter=3000,cost=0.529035 \n",
      "iter=3200,cost=0.529023 \n",
      "iter=3400,cost=0.529016 \n",
      "iter=3600,cost=0.529011 \n",
      "iter=3800,cost=0.529008 \n",
      "iter=4000,cost=0.529006 \n",
      "iter=4200,cost=0.529005 \n",
      "iter=4400,cost=0.529004 \n",
      "iter=4600,cost=0.529004 \n",
      "iter=4800,cost=0.529003 \n"
     ]
    },
    {
     "data": {
      "image/png": "[encoded data removed]",
      "text/plain": [
       "<Figure size 432x288 with 1 Axes>"
      ]
     },
     "metadata": {
      "needs_background": "light"
     },
     "output_type": "display_data"
    },
    {
     "name": "stdout",
     "output_type": "stream",
     "text": [
      "lambda = 0:\n",
      "iter=0,cost=0.693147 \n",
      "iter=200,cost=0.583820 \n",
      "iter=400,cost=0.530682 \n",
      "iter=600,cost=0.495442 \n",
      "iter=800,cost=0.470184 \n",
      "iter=1000,cost=0.451166 \n",
      "iter=1200,cost=0.436322 \n",
      "iter=1400,cost=0.424417 \n",
      "iter=1600,cost=0.414664 \n",
      "iter=1800,cost=0.406537 \n",
      "iter=2000,cost=0.399669 \n",
      "iter=2200,cost=0.393796 \n",
      "iter=2400,cost=0.388723 \n",
      "iter=2600,cost=0.384302 \n",
      "iter=2800,cost=0.380418 \n",
      "iter=3000,cost=0.376984 \n",
      "iter=3200,cost=0.373928 \n",
      "iter=3400,cost=0.371194 \n",
      "iter=3600,cost=0.368734 \n",
      "iter=3800,cost=0.366511 \n",
      "iter=4000,cost=0.364493 \n",
      "iter=4200,cost=0.362654 \n",
      "iter=4400,cost=0.360972 \n",
      "iter=4600,cost=0.359428 \n",
      "iter=4800,cost=0.358006 \n",
      "lambda = 5:\n",
      "iter=0,cost=0.693147 \n",
      "iter=200,cost=0.615520 \n",
      "iter=400,cost=0.601457 \n",
      "iter=600,cost=0.597942 \n",
      "iter=800,cost=0.597002 \n",
      "iter=1000,cost=0.596740 \n",
      "iter=1200,cost=0.596664 \n",
      "iter=1400,cost=0.596642 \n",
      "iter=1600,cost=0.596635 \n",
      "iter=1800,cost=0.596633 \n",
      "iter=2000,cost=0.596632 \n",
      "iter=2200,cost=0.596632 \n",
      "iter=2400,cost=0.596632 \n",
      "iter=2600,cost=0.596632 \n",
      "iter=2800,cost=0.596632 \n",
      "iter=3000,cost=0.596632 \n",
      "iter=3200,cost=0.596632 \n",
      "iter=3400,cost=0.596632 \n",
      "iter=3600,cost=0.596632 \n",
      "iter=3800,cost=0.596632 \n",
      "iter=4000,cost=0.596632 \n",
      "iter=4200,cost=0.596632 \n",
      "iter=4400,cost=0.596632 \n",
      "iter=4600,cost=0.596632 \n",
      "iter=4800,cost=0.596632 \n"
     ]
    }
   ],
   "source": [
    "# Batch gradient descent\n",
    "# from https://github.com/TingNie/Coursera-ML-using-matlab-python/blob/master/logic_regularization.ipynb\n",
    "\n",
    "def bgd(X, y, theta, lamb, alpha = 0.1, iters = 5000):\n",
    "    J_history = []\n",
    "    \n",
    "    for i in range(iters):\n",
    "        cost,grad = costFunctionReg(theta, X, y, lamb)\n",
    "        theta = theta - alpha * grad\n",
    "        J_history.append(float(cost))\n",
    "        if i%200 == 0:\n",
    "            print('iter=%d,cost=%f '%(i,cost))\n",
    "    return theta, J_history\n",
    "\n",
    "print('lambda = 1:')\n",
    "theta, J_history = bgd(X, y, initial_theta, lamb)\n",
    "plt.plot(J_history)\n",
    "plt.xlabel('iters')\n",
    "plt.ylabel('j_cost')\n",
    "plt.show()\n",
    "\n",
    "print('lambda = 0:')\n",
    "lamb_1 = 0\n",
    "theta_1, _ = bgd(X, y, initial_theta, lamb_1)\n",
    "\n",
    "print('lambda = 5:')\n",
    "lamb_2 = 3\n",
    "theta_2, _ = bgd(X, y, initial_theta, lamb_2)"
   ]
  },
  {
   "cell_type": "code",
   "execution_count": 8,
   "metadata": {},
   "outputs": [
    {
     "data": {
      "text/plain": [
       "<matplotlib.legend.Legend at 0x1a52efc4f60>"
      ]
     },
     "execution_count": 8,
     "metadata": {},
     "output_type": "execute_result"
    },
    {
     "data": {
      "image/png": "[encoded data removed]",
      "text/plain": [
       "<Figure size 432x288 with 1 Axes>"
      ]
     },
     "metadata": {
      "needs_background": "light"
     },
     "output_type": "display_data"
    }
   ],
   "source": [
    "# Plot Boundary \n",
    "\n",
    "def plotDecisionBoundary(theta, x, y, c):\n",
    "    u = np.linspace(-1, 1.5, 50)\n",
    "    v = np.linspace(-1, 1.5, 50)\n",
    "    \n",
    "    z = np.zeros((u.size, v.size))\n",
    "    for i in range(u.size):\n",
    "        for j in range(v.size):\n",
    "            z[i, j] = np.dot(mapFeature(u[i], v[j]), theta)\n",
    "    z = z.T\n",
    "    plt.contour(u, v, z, [0.5], colors = c)\n",
    "\n",
    "plotData(X_orig, y_orig)\n",
    "plotDecisionBoundary(theta_1, X, y, 'r')\n",
    "plotDecisionBoundary(theta, X, y, 'b')\n",
    "plotDecisionBoundary(theta_2, X, y, 'y')\n",
    "\n",
    "plt.xlabel('Microchip Test 1')\n",
    "plt.ylabel('Microchip Test 2')\n",
    "plt.legend(['y = 1', 'y = 0'])"
   ]
  },
  {
   "cell_type": "code",
   "execution_count": 13,
   "metadata": {},
   "outputs": [
    {
     "name": "stdout",
     "output_type": "stream",
     "text": [
      "Train Accuracy: 0.830508\n",
      "\n"
     ]
    }
   ],
   "source": [
    "# Predict and Accuracies\n",
    "\n",
    "def predict(theta, x):\n",
    "    p = np.where(sigmoid(np.dot(x, theta)) >= 0.5, 1.0, 0)\n",
    "    return p\n",
    "\n",
    "p = predict(theta, X)\n",
    "print('Train Accuracy: %f\\n' %np.mean(p == y))"
   ]
  },
  {
   "cell_type": "code",
   "execution_count": null,
   "metadata": {},
   "outputs": [],
   "source": []
  }
 ],
 "metadata": {
  "kernelspec": {
   "display_name": "Python 3",
   "language": "python",
   "name": "python3"
  },
  "language_info": {
   "codemirror_mode": {
    "name": "ipython",
    "version": 3
   },
   "file_extension": ".py",
   "mimetype": "text/x-python",
   "name": "python",
   "nbconvert_exporter": "python",
   "pygments_lexer": "ipython3",
   "version": "3.6.7"
  }
 },
 "nbformat": 4,
 "nbformat_minor": 2
}
