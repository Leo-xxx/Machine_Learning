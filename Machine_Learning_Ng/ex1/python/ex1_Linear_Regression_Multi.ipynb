{
 "cells": [
  {
   "cell_type": "code",
   "execution_count": 59,
   "metadata": {},
   "outputs": [],
   "source": [
    "import numpy as np\n",
    "import matplotlib.pyplot as plt"
   ]
  },
  {
   "cell_type": "code",
   "execution_count": 60,
   "metadata": {},
   "outputs": [],
   "source": [
    "# Feature Normalization\n",
    "\n",
    "def featureNormalize(x):\n",
    "    x_norm = x\n",
    "    mu = np.zeros((1, x.shape[1]))\n",
    "    sigma = np.zeros((1, x.shape[1]))\n",
    "    \n",
    "    for i in range(x.shape[1]):\n",
    "        mu[0, i] = np.mean(x[:, i])\n",
    "        sigma[0, i] = np.std(x[:, i])\n",
    "    x_norm = (x_norm - mu) / sigma;\n",
    "    \n",
    "    return x_norm, mu, sigma\n",
    "\n",
    "data = np.loadtxt('ex1data2.txt', delimiter = ',')\n",
    "X_orig = data[:, 0:2]\n",
    "y_orig = data[:, 2]\n",
    "m = len(y_orig)\n",
    "\n",
    "X_norm, mu, sigma = featureNormalize(X_orig)"
   ]
  },
  {
   "cell_type": "code",
   "execution_count": 61,
   "metadata": {},
   "outputs": [
    {
     "data": {
      "text/plain": [
       "<matplotlib.legend.Legend at 0x2c807a6ccf8>"
      ]
     },
     "execution_count": 61,
     "metadata": {},
     "output_type": "execute_result"
    },
    {
     "data": {
      "image/png": "[encoded data removed]",
      "text/plain": [
       "<Figure size 432x288 with 1 Axes>"
      ]
     },
     "metadata": {
      "needs_background": "light"
     },
     "output_type": "display_data"
    }
   ],
   "source": [
    "# Gredient descent\n",
    "\n",
    "def computeCost(x, y, theta):\n",
    "    m = len(y)\n",
    "    J = np.sum(np.square(np.dot(x, theta) - y)) / (2 * m)\n",
    "    \n",
    "    return J\n",
    "\n",
    "def gradientDescent(x, y, theta, alpha, num_iters):\n",
    "    m = len(y)\n",
    "    J_history = []\n",
    "    \n",
    "    for iter in range(num_iters):\n",
    "        theta = theta - alpha * np.dot(x.T, (np.dot(x, theta) - y)) / m\n",
    "        J_history.append(computeCost(x, y, theta))\n",
    "        \n",
    "    return theta, J_history\n",
    "\n",
    "X = np.c_[np.ones((m, 1)), X_norm]\n",
    "y = y_orig.reshape(m,1)\n",
    "\n",
    "alpha = 0.01\n",
    "num_iters = 400;\n",
    "theta = np.zeros((3, 1))\n",
    "\n",
    "theta_new, J_history = gradientDescent(X, y, theta, alpha, num_iters)\n",
    "plt.plot(range(len(J_history)), J_history, c = 'b', label = r'$\\alpha=0.01$');\n",
    "plt.xlabel('Number of iterations')\n",
    "plt.ylabel('Cost J')\n",
    "\n",
    "alpha_1 = 0.05\n",
    "theta_new_1, J_history_1 = gradientDescent(X, y, theta, alpha_1, num_iters)\n",
    "plt.plot(range(len(J_history_1)), J_history_1, c = 'r', label = r'$\\alpha=0.05$');\n",
    "\n",
    "alpha_2 = 0.005\n",
    "theta_new_2, J_history_2 = gradientDescent(X, y, theta, alpha_2, num_iters)\n",
    "plt.plot(range(len(J_history_2)), J_history_2, c = 'g', label = r'$\\alpha=0.005$');\n",
    "plt.legend()"
   ]
  },
  {
   "cell_type": "code",
   "execution_count": 66,
   "metadata": {},
   "outputs": [
    {
     "name": "stdout",
     "output_type": "stream",
     "text": [
      "Predicted price of a 1650 sq-ft, 3 br house(using gradient descent):\n",
      " $289221.547371\n",
      "\n"
     ]
    }
   ],
   "source": [
    "# Predict\n",
    "\n",
    "price = np.dot([1,(1650 - mu[0,0]) / sigma[0,0],(3 - mu[0,1]) / sigma[0,1]], theta_new)\n",
    "print('Predicted price of a 1650 sq-ft, 3 br house (using gradient descent):\\n $%f\\n' %price);"
   ]
  },
  {
   "cell_type": "code",
   "execution_count": 64,
   "metadata": {},
   "outputs": [
    {
     "name": "stdout",
     "output_type": "stream",
     "text": [
      "Theta computed from the normal equations: \n",
      "\n",
      "[[89597.90954355]\n",
      " [  139.21067402]\n",
      " [-8738.01911255]]\n"
     ]
    }
   ],
   "source": [
    "# Normal Equation\n",
    "\n",
    "X = np.c_[np.ones((m, 1)), X_orig]\n",
    "y = y_orig.reshape(m,1)\n",
    "\n",
    "theta = np.dot(np.dot(np.linalg.pinv(np.dot(X.T, X)), X.T), y)\n",
    "print('Theta computed from the normal equations: \\n')\n",
    "print(theta)"
   ]
  },
  {
   "cell_type": "code",
   "execution_count": 67,
   "metadata": {},
   "outputs": [
    {
     "name": "stdout",
     "output_type": "stream",
     "text": [
      "Predicted price of a 1650 sq-ft, 3 br house (using normal equations):\n",
      " $293081.464335\n"
     ]
    }
   ],
   "source": [
    "# Predict\n",
    "\n",
    "price = np.dot([1,1650,3],theta);\n",
    "print('Predicted price of a 1650 sq-ft, 3 br house (using normal equations):\\n $%f' %price);\n"
   ]
  },
  {
   "cell_type": "code",
   "execution_count": null,
   "metadata": {},
   "outputs": [],
   "source": []
  }
 ],
 "metadata": {
  "kernelspec": {
   "display_name": "Python 3",
   "language": "python",
   "name": "python3"
  },
  "language_info": {
   "codemirror_mode": {
    "name": "ipython",
    "version": 3
   },
   "file_extension": ".py",
   "mimetype": "text/x-python",
   "name": "python",
   "nbconvert_exporter": "python",
   "pygments_lexer": "ipython3",
   "version": "3.6.7"
  }
 },
 "nbformat": 4,
 "nbformat_minor": 2
}
